{
 "cells": [
  {
   "cell_type": "code",
   "execution_count": 1,
   "metadata": {},
   "outputs": [],
   "source": [
    "import torch\n",
    "from torch.utils.data import Dataset, DataLoader\n",
    "from PIL import Image\n",
    "import numpy as np\n",
    "import torch\n",
    "import os\n",
    "from PIL import Image, ImageOps, ImageFilter\n",
    "import random\n",
    "import time\n",
    "import torchvision\n",
    "import CitiesData\n",
    "from torchvision import models\n",
    "from torchvision.transforms import transforms\n",
    "from sklearn.metrics.pairwise import haversine_distances\n",
    "from math import radians"
   ]
  },
  {
   "cell_type": "code",
   "execution_count": 2,
   "metadata": {},
   "outputs": [],
   "source": [
    "device = torch.device(\"cuda\" if torch.cuda.is_available() else \"cpu\")"
   ]
  },
  {
   "cell_type": "code",
   "execution_count": 3,
   "metadata": {},
   "outputs": [
    {
     "name": "stderr",
     "output_type": "stream",
     "text": [
      "C:\\Users\\josem\\AppData\\Roaming\\Python\\Python311\\site-packages\\torchvision\\models\\_utils.py:135: UserWarning: Using 'weights' as positional parameter(s) is deprecated since 0.13 and may be removed in the future. Please use keyword parameter(s) instead.\n",
      "  warnings.warn(\n"
     ]
    }
   ],
   "source": [
    "model_name = \"vit_b16_latLong_pretrained_actual\"\n",
    "model_image_size = 224\n",
    "vit = models.vit_b_16(models.ViT_B_16_Weights.IMAGENET1K_V1)"
   ]
  },
  {
   "cell_type": "code",
   "execution_count": 4,
   "metadata": {},
   "outputs": [],
   "source": [
    "class ViT(torch.nn.Module):\n",
    "    def __init__(self, visionTransformer: models.VisionTransformer):\n",
    "        super(ViT, self).__init__()\n",
    "        self.reference_vit = visionTransformer\n",
    "        self.reference_vit.heads.head = torch.nn.Sequential(torch.nn.Linear(768, 768),\n",
    "                                                            torch.nn.ReLU(),\n",
    "                                                            torch.nn.Linear(768, 512),\n",
    "                                                            torch.nn.ReLU(),\n",
    "                                                            torch.nn.Linear(512, 256),\n",
    "                                                            torch.nn.ReLU(),\n",
    "                                                            torch.nn.Linear(256, 2))\n",
    "#         ViTLayers = torch.nn.Sequential(*list(visionTransformer.children())[:-1])\n",
    "        # self.reference_vit.conv_proj.requires_grad = False\n",
    "        # self.reference_vit.encoder.requires_grad = False\n",
    "        # self.reference_vit.heads.requires_grad = False\n",
    "        # self.reference_vit.heads.head.requires_grad = True\n",
    "#         for param in self.reference_vit.parameters():\n",
    "#             print(param.requires_grad)\n",
    "        #self.ViT = ViTLayers.to(device)\n",
    "#         self.linear = torch.nn.Linear(1000, 10).to(device)\n",
    "    def forward(self, x):\n",
    "        # Reshape and permute the input tensor\n",
    "        x = self._process_input(x)\n",
    "        n = x.shape[0]\n",
    "        # Expand the class token to the full batch\n",
    "        batch_class_token = self.reference_vit.class_token.expand(n, -1, -1)\n",
    "        x = torch.cat([batch_class_token, x], dim=1)\n",
    "        x = self.reference_vit.encoder(x)\n",
    "        # Classifier \"token\" as used by standard language architectures\n",
    "        x = x[:, 0]\n",
    "        x =  self.reference_vit.heads(x)\n",
    "        #extractedFeature = self.ViT(x)\n",
    "        return x\n",
    "    def _process_input(self, x: torch.Tensor) -> torch.Tensor:\n",
    "        n, c, h, w = x.shape\n",
    "        p = self.reference_vit.patch_size\n",
    "        torch._assert(h == self.reference_vit.image_size, f\"Wrong image height! Expected {self.reference_vit.image_size} but got {h}!\")\n",
    "        torch._assert(w == self.reference_vit.image_size, f\"Wrong image width! Expected {self.reference_vit.image_size} but got {w}!\")\n",
    "        n_h = h // p\n",
    "        n_w = w // p\n",
    "        # (n, c, h, w) -> (n, hidden_dim, n_h, n_w)\n",
    "        x =  self.reference_vit.conv_proj(x)\n",
    "        # (n, hidden_dim, n_h, n_w) -> (n, hidden_dim, (n_h * n_w))\n",
    "        x = x.reshape(n, self.reference_vit.hidden_dim, n_h * n_w)\n",
    "        # (n, hidden_dim, (n_h * n_w)) -> (n, (n_h * n_w), hidden_dim)\n",
    "        # The self attention layer expects inputs in the format (N, S, E)\n",
    "        # where S is the source sequence length, N is the batch size, E is the\n",
    "        # embedding dimension\n",
    "        x = x.permute(0, 2, 1)\n",
    "        return x"
   ]
  },
  {
   "cell_type": "code",
   "execution_count": 5,
   "metadata": {},
   "outputs": [],
   "source": [
    "model = ViT(vit).to(device)\n",
    "# print(*list(model.children())[:-1])"
   ]
  },
  {
   "cell_type": "code",
   "execution_count": null,
   "metadata": {},
   "outputs": [],
   "source": [
    "# Loss and optimizer\n",
    "criterion = torch.nn.MSELoss()\n",
    "optimizer = torch.optim.Adam(model.parameters(), lr=1e-6)"
   ]
  },
  {
   "cell_type": "code",
   "execution_count": 6,
   "metadata": {},
   "outputs": [],
   "source": [
    "batch_size = 64\n",
    "transform = transforms.Compose([transforms.ToTensor(), transforms.RandomResizedCrop(size=(model_image_size, model_image_size), antialias=True), transforms.Normalize((0.5, 0.5, 0.5), (0.5, 0.5, 0.5))])\n",
    "trainDataLoader, validDataLoader, testDataLoader = CitiesData.getCitiesDataLoader(\"./data/\", transforms = transform, batchSize=batch_size)"
   ]
  },
  {
   "cell_type": "code",
   "execution_count": null,
   "metadata": {},
   "outputs": [],
   "source": [
    "print(len(trainDataLoader))\n",
    "print(len(validDataLoader))\n",
    "print(len(testDataLoader))\n",
    "\n",
    "\n",
    "for i in trainDataLoader:\n",
    "    image, cities, _, _ = i\n",
    "    print(image.shape)\n",
    "    break"
   ]
  },
  {
   "cell_type": "code",
   "execution_count": 8,
   "metadata": {},
   "outputs": [
    {
     "name": "stderr",
     "output_type": "stream",
     "text": [
      "Unsupported operator aten::mul encountered 49 time(s)\n",
      "Unsupported operator aten::add encountered 25 time(s)\n",
      "Unsupported operator aten::div encountered 12 time(s)\n",
      "Unsupported operator aten::unflatten encountered 12 time(s)\n",
      "Unsupported operator aten::scaled_dot_product_attention encountered 12 time(s)\n",
      "Unsupported operator aten::gelu encountered 12 time(s)\n",
      "The following submodules of the model were never called during the trace of the graph. They may be unused, or they were accessed by direct calls to .forward() or via other python methods. In the latter case they will have zeros for statistics, though their statistics will still contribute to their parent calling module.\n",
      "reference_vit.encoder.layers.encoder_layer_0.self_attention.out_proj, reference_vit.encoder.layers.encoder_layer_1.self_attention.out_proj, reference_vit.encoder.layers.encoder_layer_10.self_attention.out_proj, reference_vit.encoder.layers.encoder_layer_11.self_attention.out_proj, reference_vit.encoder.layers.encoder_layer_2.self_attention.out_proj, reference_vit.encoder.layers.encoder_layer_3.self_attention.out_proj, reference_vit.encoder.layers.encoder_layer_4.self_attention.out_proj, reference_vit.encoder.layers.encoder_layer_5.self_attention.out_proj, reference_vit.encoder.layers.encoder_layer_6.self_attention.out_proj, reference_vit.encoder.layers.encoder_layer_7.self_attention.out_proj, reference_vit.encoder.layers.encoder_layer_8.self_attention.out_proj, reference_vit.encoder.layers.encoder_layer_9.self_attention.out_proj\n"
     ]
    },
    {
     "name": "stdout",
     "output_type": "stream",
     "text": [
      "1079536599040 flops\n"
     ]
    }
   ],
   "source": [
    "from fvcore.nn import FlopCountAnalysis\n",
    "valid_image = 0\n",
    "for i in validDataLoader:\n",
    "    valid_image, _, _, _ = i\n",
    "    valid_image = valid_image.to(device)\n",
    "    break\n",
    "\n",
    "\n",
    "\n",
    "flops = FlopCountAnalysis(model, valid_image)\n",
    "print(str(flops.total()) + \" flops\")"
   ]
  },
  {
   "cell_type": "code",
   "execution_count": 9,
   "metadata": {},
   "outputs": [],
   "source": [
    "def evaluate_on_data(vit, dataloader):\n",
    "    criterion = torch.nn.MSELoss()\n",
    "    with torch.no_grad():\n",
    "        total_loss = 0\n",
    "        total_distance = 0.0\n",
    "        num_samples = 0.0\n",
    "        for data in dataloader:\n",
    "            image, _, lat, long = data\n",
    "            image = image.to(device)\n",
    "            coordinates = torch.stack((lat, long), dim = 1).float().to(device)\n",
    "            outputs = vit(image)\n",
    "            loss = criterion(outputs, coordinates)\n",
    "            total_loss += loss.item()\n",
    "            for i in range(len(coordinates)):\n",
    "                true = coordinates[i]\n",
    "                predicted = outputs[i]\n",
    "                true_in_radians = [radians(_) for _ in true]\n",
    "                predicted_in_radians = [radians(_) for _ in predicted]\n",
    "                result = haversine_distances([true_in_radians, predicted_in_radians]).max(axis = None)\n",
    "                total_distance += (result * 6371000/1000)\n",
    "                num_samples += 1\n",
    "    return total_loss / len(dataloader), total_distance / num_samples"
   ]
  },
  {
   "cell_type": "code",
   "execution_count": 3,
   "metadata": {},
   "outputs": [
    {
     "name": "stdout",
     "output_type": "stream",
     "text": [
      "Epoch [1/30], Training Loss: 3155.53955078125, Valid Loss: 2918.574397992484, Valid distance: 7410.782779457221\n",
      "Epoch [2/30], Training Loss: 185.48040771484375, Valid Loss: 182.61979173104973, Valid distance: 1634.93981804063\n",
      "Epoch [3/30], Training Loss: 145.07086181640625, Valid Loss: 120.38815201385111, Valid distance: 1279.2659332895282\n",
      "Epoch [4/30], Training Loss: 121.63706970214844, Valid Loss: 109.29220320303229, Valid distance: 1203.4676336180894\n",
      "Epoch [5/30], Training Loss: 103.5975341796875, Valid Loss: 97.736872998974, Valid distance: 1051.6193672670565\n",
      "Epoch [6/30], Training Loss: 118.20711517333984, Valid Loss: 87.88130902640427, Valid distance: 944.4117310155374\n",
      "Epoch [7/30], Training Loss: 35.0784912109375, Valid Loss: 79.6478608046906, Valid distance: 871.2621887108689\n",
      "Epoch [8/30], Training Loss: 45.43400192260742, Valid Loss: 80.33880909786949, Valid distance: 856.2163663487552\n",
      "Epoch [9/30], Training Loss: 26.005924224853516, Valid Loss: 76.95923696590376, Valid distance: 834.1930905422753\n",
      "Epoch [10/30], Training Loss: 64.92816162109375, Valid Loss: 73.73867131486723, Valid distance: 794.8227309612744\n",
      "Epoch [11/30], Training Loss: 128.43553161621094, Valid Loss: 71.6114933641651, Valid distance: 792.4923138104131\n",
      "Epoch [12/30], Training Loss: 31.36759376525879, Valid Loss: 68.4917636098741, Valid distance: 754.8182985181902\n",
      "Epoch [13/30], Training Loss: 47.49037170410156, Valid Loss: 65.65020276323149, Valid distance: 747.00804082232\n",
      "Epoch [14/30], Training Loss: 169.10035705566406, Valid Loss: 63.94349870802481, Valid distance: 743.151013970034\n",
      "Epoch [15/30], Training Loss: 112.37323760986328, Valid Loss: 62.151683131350744, Valid distance: 710.7556669889653\n",
      "Epoch [16/30], Training Loss: 58.51567840576172, Valid Loss: 60.71645364882071, Valid distance: 689.0825235915659\n",
      "Epoch [17/30], Training Loss: 71.1861572265625, Valid Loss: 60.509338330618945, Valid distance: 685.8287136625214\n",
      "Epoch [18/30], Training Loss: 123.60803985595703, Valid Loss: 62.40785584268691, Valid distance: 674.2816377149684\n",
      "Epoch [19/30], Training Loss: 72.11800384521484, Valid Loss: 56.664090265201615, Valid distance: 654.5656305388873\n",
      "Epoch [20/30], Training Loss: 43.13027572631836, Valid Loss: 56.184028915212124, Valid distance: 634.4925147312405\n",
      "Epoch [21/30], Training Loss: 64.56725311279297, Valid Loss: 55.2643557681313, Valid distance: 634.7948853819622\n",
      "Epoch [22/30], Training Loss: 109.26424407958984, Valid Loss: 53.87506332880334, Valid distance: 622.1158168663454\n",
      "Epoch [23/30], Training Loss: 82.60047912597656, Valid Loss: 51.208325277400924, Valid distance: 600.2552780331622\n",
      "Epoch [24/30], Training Loss: 21.76983070373535, Valid Loss: 48.47321227834195, Valid distance: 584.9810503137833\n",
      "Epoch [25/30], Training Loss: 157.1268768310547, Valid Loss: 46.93087898930417, Valid distance: 565.8141320378492\n",
      "Epoch [26/30], Training Loss: 34.498802185058594, Valid Loss: 48.24383081363726, Valid distance: 571.3096845577567\n",
      "Epoch [27/30], Training Loss: 28.625452041625977, Valid Loss: 46.12863815887065, Valid distance: 554.4760112821175\n",
      "Epoch [28/30], Training Loss: 10.836575508117676, Valid Loss: 46.99851630005655, Valid distance: 559.9664873194012\n",
      "Epoch [29/30], Training Loss: 35.551334381103516, Valid Loss: 44.90285153932209, Valid distance: 548.2088124285792\n",
      "Epoch [30/30], Training Loss: 91.48783874511719, Valid Loss: 44.41582839096649, Valid distance: 530.5089577570724\n"
     ]
    }
   ],
   "source": [
    "num_epochs = 30\n",
    "count = 0\n",
    "valid_loss_array = np.zeros(num_epochs)\n",
    "valid_acc_array = np.zeros(num_epochs)\n",
    "train_loss_array = np.zeros(num_epochs)\n",
    "for epoch in range(num_epochs):\n",
    "    start = time.time()\n",
    "    temp = 0\n",
    "    for data in trainDataLoader:\n",
    "        image, _, lat, long = data\n",
    "        image = image.to(device)\n",
    "        coordinates = torch.stack((lat, long), dim=1).float().to(device)\n",
    "        optimizer.zero_grad()\n",
    "        outputs = model(image)\n",
    "        loss = criterion(outputs.float(), coordinates)\n",
    "        loss.backward()\n",
    "        optimizer.step()\n",
    "        end = time.time()\n",
    "        count += 1\n",
    "        print(str(int(end-start)) + \" sec \" + str(count * batch_size) + \" images \" + str(loss.item()) + \" loss\", end='\\x1b\\r')\n",
    "    valid_loss, valid_acc = evaluate_on_data(model, validDataLoader)\n",
    "    print(f'Epoch [{epoch+1}/{num_epochs}], Training Loss: {loss.item():.4f}, Valid Loss: {valid_loss}, Valid distance: {valid_acc}')\n",
    "    valid_loss_array[epoch] = valid_loss\n",
    "    train_loss_array[epoch] = loss.item()\n",
    "    valid_acc_array[epoch] = valid_acc"
   ]
  },
  {
   "cell_type": "code",
   "execution_count": null,
   "metadata": {},
   "outputs": [],
   "source": [
    "with open(model_name + '_valid.npy', 'wb') as f:\n",
    "    np.save(f, valid_loss_array)\n",
    "    \n",
    "\n",
    "with open(model_name + '_valid_acc.npy', 'wb') as f:\n",
    "    np.save(f, valid_acc_array)\n",
    "\n",
    "\n",
    "with open(model_name + '_train.npy', 'wb') as f:\n",
    "    np.save(f, train_loss_array)\n"
   ]
  },
  {
   "cell_type": "code",
   "execution_count": 10,
   "metadata": {},
   "outputs": [
    {
     "data": {
      "text/plain": [
       "<matplotlib.legend.Legend at 0x15df5c64190>"
      ]
     },
     "execution_count": 10,
     "metadata": {},
     "output_type": "execute_result"
    },
    {
     "data": {
      "image/png": "[encoded data removed]",
      "text/plain": [
       "<Figure size 640x480 with 2 Axes>"
      ]
     },
     "metadata": {},
     "output_type": "display_data"
    }
   ],
   "source": [
    "import matplotlib.pyplot as plt\n",
    "import numpy as np\n",
    "\n",
    "fig, ax = plt.subplots(2)\n",
    "# this locator puts ticks at regular intervals\n",
    "\n",
    "ax[0].set_xlabel(\"Epoch\")\n",
    "ax[0].set_ylabel(\"Valid MSE Loss\")\n",
    "ax[0].plot(range(1,len(valid_loss_array)), valid_loss_array[1:], label=\"Validation\") #start from 1 since epoch 0 had a very large mse\n",
    "\n",
    "ax[1].set_xlabel(\"Epoch\")\n",
    "ax[1].set_ylabel(\"Valid Avg Distance Difference\")\n",
    "ax[1].plot(range(1, len(valid_acc_array)),valid_acc_array[1:], label=\"Validation\")\n",
    "\n",
    "ax[0].set_xlabel(\"Epoch\")\n",
    "ax[0].set_ylabel(\"Train Loss\")\n",
    "ax[0].plot(range(1, len(train_loss_array)), train_loss_array[1:], label=\"Training\")\n",
    "\n",
    "ax[0].legend(loc=\"upper right\")\n",
    "ax[1].legend(loc=\"upper right\")"
   ]
  },
  {
   "cell_type": "code",
   "execution_count": 2,
   "metadata": {},
   "outputs": [
    {
     "name": "stdout",
     "output_type": "stream",
     "text": [
      "Test Loss: 43.336779778031094, Test ACC: 522.541668434077\n"
     ]
    }
   ],
   "source": [
    "test_loss, test_acc = evaluate_on_data(model, validDataLoader)\n",
    "print(f\"Test Loss: {test_loss}, Test ACC: {test_acc}\")"
   ]
  }
 ],
 "metadata": {
  "kernelspec": {
   "display_name": "Python 3.11.1 64-bit",
   "language": "python",
   "name": "python3"
  },
  "language_info": {
   "codemirror_mode": {
    "name": "ipython",
    "version": 3
   },
   "file_extension": ".py",
   "mimetype": "text/x-python",
   "name": "python",
   "nbconvert_exporter": "python",
   "pygments_lexer": "ipython3",
   "version": "3.11.1"
  },
  "orig_nbformat": 4,
  "vscode": {
   "interpreter": {
    "hash": "8907f5995ab74a6cd5df9da2d2bcd12f57f5b23c9c38358337eeb837f01ad676"
   }
  }
 },
 "nbformat": 4,
 "nbformat_minor": 2
}
