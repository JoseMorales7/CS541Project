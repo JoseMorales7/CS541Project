{
 "cells": [
  {
   "cell_type": "code",
   "execution_count": 19,
   "id": "00a76970",
   "metadata": {},
   "outputs": [],
   "source": [
    "import torch\n",
    "from torch.utils.data import Dataset, DataLoader\n",
    "\n",
    "from skimage import io\n",
    "\n",
    "import numpy as np\n",
    "import torch\n",
    "import os\n",
    "from PIL import Image, ImageOps, ImageFilter\n",
    "import random\n"
   ]
  },
  {
   "cell_type": "code",
   "execution_count": 20,
   "id": "592574c7",
   "metadata": {},
   "outputs": [],
   "source": [
    "def data_generator(original_data_folder, augmented_data_folder, city, amount):\n",
    "    \n",
    "    path = os.path.join(original_data_folder, city)\n",
    "    count = 0\n",
    "    for imageFile in os.listdir(path):\n",
    "        imagePath = os.path.join(path, imageFile).replace(\"\\\\\", \"/\")\n",
    "        \n",
    "        # Transform image - slight rotations and \n",
    "        image = Image.open(imagePath)\n",
    "        \n",
    "        rand = random.randint(0,9)\n",
    "        if rand <= 2:\n",
    "            rand2= random.randint(-3,3)\n",
    "            image = image.rotate(rand2)\n",
    "        elif rand <= 5:\n",
    "            image = ImageOps.grayscale(image)\n",
    "        else:\n",
    "            image = image.filter(ImageFilter.GaussianBlur(1))\n",
    "        \n",
    "        \n",
    "        #Write Image to AugmentedData\n",
    "        image.save(os.path.join(os.path.join(augmented_data_folder, city), str(count) + \".0,1.0.jpg\").replace(\"\\\\\", \"/\"))\n",
    "       \n",
    "        count += 1\n",
    "        if count >= amount:\n",
    "            break"
   ]
  },
  {
   "cell_type": "code",
   "execution_count": 21,
   "id": "092bf84a",
   "metadata": {},
   "outputs": [],
   "source": [
    "data_generator(\"./Data/\", \"./AugmentedData/\", \"Atlanta\", 10)"
   ]
  },
  {
   "cell_type": "code",

   "execution_count": 28,
   "id": "a3b5ca7d",
   "metadata": {},
   "outputs": [
    {
     "ename": "KeyboardInterrupt",
     "evalue": "",
     "output_type": "error",
     "traceback": [
"\u001b[1;31m---------------------------------------------------------------------------\u001b[0m",
      "\u001b[1;31mKeyboardInterrupt\u001b[0m                         Traceback (most recent call last)",
      "Cell \u001b[1;32mIn [28], line 5\u001b[0m\n\u001b[0;32m      3\u001b[0m batch_size \u001b[38;5;241m=\u001b[39m \u001b[38;5;241m32\u001b[39m\n\u001b[0;32m      4\u001b[0m transform \u001b[38;5;241m=\u001b[39m transforms\u001b[38;5;241m.\u001b[39mCompose([transforms\u001b[38;5;241m.\u001b[39mToTensor(), transforms\u001b[38;5;241m.\u001b[39mRandomResizedCrop(size\u001b[38;5;241m=\u001b[39m(\u001b[38;5;241m224\u001b[39m, \u001b[38;5;241m224\u001b[39m), antialias\u001b[38;5;241m=\u001b[39m\u001b[38;5;28;01mTrue\u001b[39;00m), transforms\u001b[38;5;241m.\u001b[39mNormalize((\u001b[38;5;241m0.5\u001b[39m, \u001b[38;5;241m0.5\u001b[39m, \u001b[38;5;241m0.5\u001b[39m), (\u001b[38;5;241m0.5\u001b[39m, \u001b[38;5;241m0.5\u001b[39m, \u001b[38;5;241m0.5\u001b[39m))])\n\u001b[1;32m----> 5\u001b[0m trainDataLoader, testDataLoader \u001b[38;5;241m=\u001b[39m \u001b[43mCitiesData2\u001b[49m\u001b[38;5;241;43m.\u001b[39;49m\u001b[43mgetBalancedCitiesDataLoader\u001b[49m\u001b[43m(\u001b[49m\u001b[38;5;124;43m\"\u001b[39;49m\u001b[38;5;124;43m./Data/\u001b[39;49m\u001b[38;5;124;43m\"\u001b[39;49m\u001b[43m,\u001b[49m\u001b[43m \u001b[49m\u001b[38;5;124;43m\"\u001b[39;49m\u001b[38;5;124;43m./AugmentedData/\u001b[39;49m\u001b[38;5;124;43m\"\u001b[39;49m\u001b[43m,\u001b[49m\u001b[43m \u001b[49m\u001b[43mtransforms\u001b[49m\u001b[43m \u001b[49m\u001b[38;5;241;43m=\u001b[39;49m\u001b[43m \u001b[49m\u001b[43mtransform\u001b[49m\u001b[43m,\u001b[49m\u001b[43m \u001b[49m\u001b[43mbatchSize\u001b[49m\u001b[38;5;241;43m=\u001b[39;49m\u001b[43mbatch_size\u001b[49m\u001b[43m)\u001b[49m\n",
      "File \u001b[1;32m~\\git-repos\\CS541Project\\CitiesData2.py:122\u001b[0m, in \u001b[0;36mgetBalancedCitiesDataLoader\u001b[1;34m(dataParentFolder, augmentedParentFolder, batchSize, transforms, balanced_size)\u001b[0m\n\u001b[0;32m    119\u001b[0m \u001b[38;5;28;01melse\u001b[39;00m:\n\u001b[0;32m    120\u001b[0m     \u001b[38;5;66;03m# First add original data\u001b[39;00m\n\u001b[0;32m    121\u001b[0m     \u001b[38;5;28;01mfor\u001b[39;00m i \u001b[38;5;129;01min\u001b[39;00m \u001b[38;5;28mrange\u001b[39m(city_size):\n\u001b[1;32m--> 122\u001b[0m         imageFile \u001b[38;5;241m=\u001b[39m os\u001b[38;5;241m.\u001b[39mlistdir(path)[i]\n\u001b[0;32m    123\u001b[0m         imagePaths[count] \u001b[38;5;241m=\u001b[39m os\u001b[38;5;241m.\u001b[39mpath\u001b[38;5;241m.\u001b[39mjoin(path, imageFile)\u001b[38;5;241m.\u001b[39mreplace(\u001b[38;5;124m\"\u001b[39m\u001b[38;5;130;01m\\\\\u001b[39;00m\u001b[38;5;124m\"\u001b[39m, \u001b[38;5;124m\"\u001b[39m\u001b[38;5;124m/\u001b[39m\u001b[38;5;124m\"\u001b[39m)\n\u001b[0;32m    124\u001b[0m         count \u001b[38;5;241m+\u001b[39m\u001b[38;5;241m=\u001b[39m \u001b[38;5;241m1\u001b[39m \n",
      "\u001b[1;31mKeyboardInterrupt\u001b[0m: "
     ]
    }
   ],
   "source": [
    "import CitiesData2\n",
    "from torchvision.transforms import transforms\n",
    "batch_size = 32\n",
    "transform = transforms.Compose([transforms.ToTensor(), transforms.RandomResizedCrop(size=(224, 224), antialias=True), transforms.Normalize((0.5, 0.5, 0.5), (0.5, 0.5, 0.5))])\n",
    "trainDataLoader, testDataLoader = CitiesData2.getBalancedCitiesDataLoader(\"./Data/\", \"./AugmentedData/\", transforms = transform, batchSize=batch_size)"
   ]
  }
 ],
 "metadata": {
  "kernelspec": {
   "display_name": "Python 3 (ipykernel)",
   "language": "python",
   "name": "python3"
  },
  "language_info": {
   "codemirror_mode": {
    "name": "ipython",
    "version": 3
   },
   "file_extension": ".py",
   "mimetype": "text/x-python",
   "name": "python",
   "nbconvert_exporter": "python",
   "pygments_lexer": "ipython3",
   "version": "3.11.7"
  }
 },
 "nbformat": 4,
 "nbformat_minor": 5
}
