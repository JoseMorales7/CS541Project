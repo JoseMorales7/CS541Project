{
 "cells": [
  {
   "cell_type": "code",
   "execution_count": 19,
   "id": "c17fc365",
   "metadata": {},
   "outputs": [],
   "source": [
    "import torch\n",
    "from torch.utils.data import Dataset, DataLoader\n",
    "\n",
    "from skimage import io\n",
    "\n",
    "import numpy as np\n",
    "import torch\n",
    "import os\n",
    "from PIL import Image, ImageOps, ImageFilter\n",
    "import random\n"
   ]
  },
  {
   "cell_type": "code",
   "execution_count": 20,
   "id": "2e1a3784",
   "metadata": {},
   "outputs": [],
   "source": [
    "def data_generator(original_data_folder, augmented_data_folder, city, amount):\n",
    "    \n",
    "    path = os.path.join(original_data_folder, city)\n",
    "    count = 0\n",
    "    for imageFile in os.listdir(path):\n",
    "        imagePath = os.path.join(path, imageFile).replace(\"\\\\\", \"/\")\n",
    "        \n",
    "        # Transform image - slight rotations and \n",
    "        image = Image.open(imagePath)\n",
    "        \n",
    "        rand = random.randint(0,9)\n",
    "        if rand <= 2:\n",
    "            rand2= random.randint(-3,3)\n",
    "            image = image.rotate(rand2)\n",
    "        elif rand <= 5:\n",
    "            image = ImageOps.grayscale(image)\n",
    "        else:\n",
    "            image = image.filter(ImageFilter.GaussianBlur(1))\n",
    "        \n",
    "        \n",
    "        #Write Image to AugmentedData\n",
    "        image.save(os.path.join(os.path.join(augmented_data_folder, city), str(count) + \".0,1.0.jpg\").replace(\"\\\\\", \"/\"))\n",
    "       \n",
    "        count += 1\n",
    "        if count >= amount:\n",
    "            break"
   ]
  },
  {
   "cell_type": "code",
   "execution_count": 21,
   "id": "2d519278",
   "metadata": {},
   "outputs": [],
   "source": [
    "data_generator(\"./Data/\", \"./AugmentedData/\", \"Atlanta\", 10)"
   ]
  },
  {
   "cell_type": "code",
   "execution_count": 1,
   "id": "e6adbe68",
   "metadata": {},
   "outputs": [
    {
     "ename": "TypeError",
     "evalue": "object of type 'int' has no len()",
     "output_type": "error",
     "traceback": [
      "\u001b[1;31m---------------------------------------------------------------------------\u001b[0m",
      "\u001b[1;31mTypeError\u001b[0m                                 Traceback (most recent call last)",
      "\u001b[1;32mc:\\Users\\wiggle_jiggle\\CodeStuff\\CS541\\project\\CS541Project\\Quick_Testing.ipynb Cell 4\u001b[0m line \u001b[0;36m5\n\u001b[0;32m      <a href='vscode-notebook-cell:/c%3A/Users/wiggle_jiggle/CodeStuff/CS541/project/CS541Project/Quick_Testing.ipynb#W3sZmlsZQ%3D%3D?line=2'>3</a>\u001b[0m batch_size \u001b[39m=\u001b[39m \u001b[39m32\u001b[39m\n\u001b[0;32m      <a href='vscode-notebook-cell:/c%3A/Users/wiggle_jiggle/CodeStuff/CS541/project/CS541Project/Quick_Testing.ipynb#W3sZmlsZQ%3D%3D?line=3'>4</a>\u001b[0m transform \u001b[39m=\u001b[39m transforms\u001b[39m.\u001b[39mCompose([transforms\u001b[39m.\u001b[39mToTensor(), transforms\u001b[39m.\u001b[39mRandomResizedCrop(size\u001b[39m=\u001b[39m(\u001b[39m224\u001b[39m, \u001b[39m224\u001b[39m), antialias\u001b[39m=\u001b[39m\u001b[39mTrue\u001b[39;00m), transforms\u001b[39m.\u001b[39mNormalize((\u001b[39m0.5\u001b[39m, \u001b[39m0.5\u001b[39m, \u001b[39m0.5\u001b[39m), (\u001b[39m0.5\u001b[39m, \u001b[39m0.5\u001b[39m, \u001b[39m0.5\u001b[39m))])\n\u001b[1;32m----> <a href='vscode-notebook-cell:/c%3A/Users/wiggle_jiggle/CodeStuff/CS541/project/CS541Project/Quick_Testing.ipynb#W3sZmlsZQ%3D%3D?line=4'>5</a>\u001b[0m trainDataLoader, testDataLoader \u001b[39m=\u001b[39m CitiesData\u001b[39m.\u001b[39;49mgetBalancedCitiesDataLoader(\u001b[39m\"\u001b[39;49m\u001b[39m./Data/\u001b[39;49m\u001b[39m\"\u001b[39;49m, \u001b[39m\"\u001b[39;49m\u001b[39m./AugmentedData/\u001b[39;49m\u001b[39m\"\u001b[39;49m, transforms \u001b[39m=\u001b[39;49m transform, batchSize\u001b[39m=\u001b[39;49mbatch_size, balanced_size\u001b[39m=\u001b[39;49m\u001b[39m100000\u001b[39;49m)\n",
      "File \u001b[1;32mc:\\Users\\wiggle_jiggle\\CodeStuff\\CS541\\project\\CS541Project\\CitiesData.py:136\u001b[0m, in \u001b[0;36mgetBalancedCitiesDataLoader\u001b[1;34m(dataParentFolder, augmentedParentFolder, batchSize, transforms, balanced_size)\u001b[0m\n\u001b[0;32m    133\u001b[0m             imagePaths[count] \u001b[39m=\u001b[39m os\u001b[39m.\u001b[39mpath\u001b[39m.\u001b[39mjoin(augmented_path, imageFile)\u001b[39m.\u001b[39mreplace(\u001b[39m\"\u001b[39m\u001b[39m\\\\\u001b[39;00m\u001b[39m\"\u001b[39m, \u001b[39m\"\u001b[39m\u001b[39m/\u001b[39m\u001b[39m\"\u001b[39m)\n\u001b[0;32m    134\u001b[0m             count \u001b[39m+\u001b[39m\u001b[39m=\u001b[39m \u001b[39m1\u001b[39m\n\u001b[1;32m--> 136\u001b[0m \u001b[39mfor\u001b[39;00m i \u001b[39min\u001b[39;00m \u001b[39mrange\u001b[39m(\u001b[39mlen\u001b[39m(\u001b[39m10\u001b[39m)):\n\u001b[0;32m    137\u001b[0m     start \u001b[39m=\u001b[39m i \u001b[39m*\u001b[39m class_balanced_size\n\u001b[0;32m    138\u001b[0m     stop \u001b[39m=\u001b[39m (i\u001b[39m+\u001b[39m\u001b[39m1\u001b[39m) \u001b[39m*\u001b[39m class_balanced_size\n",
      "\u001b[1;31mTypeError\u001b[0m: object of type 'int' has no len()"
     ]
    }
   ],
   "source": [
    "import CitiesData\n",
    "from torchvision.transforms import transforms\n",
    "batch_size = 32\n",
    "transform = transforms.Compose([transforms.ToTensor(), transforms.RandomResizedCrop(size=(224, 224), antialias=True), transforms.Normalize((0.5, 0.5, 0.5), (0.5, 0.5, 0.5))])\n",
    "trainDataLoader, testDataLoader = CitiesData.getBalancedCitiesDataLoader(\"./Data/\", \"./AugmentedData/\", transforms = transform, batchSize=batch_size, balanced_size=100000)"
   ]
  }
 ],
 "metadata": {
  "kernelspec": {
   "display_name": "Python 3 (ipykernel)",
   "language": "python",
   "name": "python3"
  },
  "language_info": {
   "codemirror_mode": {
    "name": "ipython",
    "version": 3
   },
   "file_extension": ".py",
   "mimetype": "text/x-python",
   "name": "python",
   "nbconvert_exporter": "python",
   "pygments_lexer": "ipython3",
   "version": "3.11.7"
  }
 },
 "nbformat": 4,
 "nbformat_minor": 5
}
