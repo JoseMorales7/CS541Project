{
 "cells": [
  {
   "cell_type": "code",
   "execution_count": 19,
   "id": "c17fc365",
   "metadata": {},
   "outputs": [],
   "source": [
    "import torch\n",
    "from torch.utils.data import Dataset, DataLoader\n",
    "\n",
    "from skimage import io\n",
    "\n",
    "import numpy as np\n",
    "import torch\n",
    "import os\n",
    "from PIL import Image, ImageOps, ImageFilter\n",
    "import random\n"
   ]
  },
  {
   "cell_type": "code",
   "execution_count": 20,
   "id": "2e1a3784",
   "metadata": {},
   "outputs": [],
   "source": [
    "def data_generator(original_data_folder, augmented_data_folder, city, amount):\n",
    "    \n",
    "    path = os.path.join(original_data_folder, city)\n",
    "    count = 0\n",
    "    for imageFile in os.listdir(path):\n",
    "        imagePath = os.path.join(path, imageFile).replace(\"\\\\\", \"/\")\n",
    "        \n",
    "        # Transform image - slight rotations and \n",
    "        image = Image.open(imagePath)\n",
    "        \n",
    "        rand = random.randint(0,9)\n",
    "        if rand <= 2:\n",
    "            rand2= random.randint(-3,3)\n",
    "            image = image.rotate(rand2)\n",
    "        elif rand <= 5:\n",
    "            image = ImageOps.grayscale(image)\n",
    "        else:\n",
    "            image = image.filter(ImageFilter.GaussianBlur(1))\n",
    "        \n",
    "        \n",
    "        #Write Image to AugmentedData\n",
    "        image.save(os.path.join(os.path.join(augmented_data_folder, city), str(count) + \".0,1.0.jpg\").replace(\"\\\\\", \"/\"))\n",
    "       \n",
    "        count += 1\n",
    "        if count >= amount:\n",
    "            break"
   ]
  },
  {
   "cell_type": "code",
   "execution_count": 21,
   "id": "2d519278",
   "metadata": {},
   "outputs": [],
   "source": [
    "data_generator(\"./Data/\", \"./AugmentedData/\", \"Atlanta\", 10)"
   ]
  },
  {
   "cell_type": "code",
   "execution_count": null,
   "id": "e6adbe68",
   "metadata": {},
   "outputs": [],
   "source": [
    "import CitiesData\n",
    "from torchvision.transforms import transforms\n",
    "batch_size = 32\n",
    "transform = transforms.Compose([transforms.ToTensor(), transforms.RandomResizedCrop(size=(224, 224), antialias=True), transforms.Normalize((0.5, 0.5, 0.5), (0.5, 0.5, 0.5))])\n",
    "trainDataLoader, testDataLoader = CitiesData.getBalancedCitiesDataLoader(\"./Data/\", \"./AugmentedData/\", transforms = transform, batchSize=batch_size)"
   ]
  }
 ],
 "metadata": {
  "kernelspec": {
   "display_name": "Python 3 (ipykernel)",
   "language": "python",
   "name": "python3"
  },
  "language_info": {
   "codemirror_mode": {
    "name": "ipython",
    "version": 3
   },
   "file_extension": ".py",
   "mimetype": "text/x-python",
   "name": "python",
   "nbconvert_exporter": "python",
   "pygments_lexer": "ipython3",
   "version": "3.11.0"
  }
 },
 "nbformat": 4,
 "nbformat_minor": 5
}
